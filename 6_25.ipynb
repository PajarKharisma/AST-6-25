{
 "cells": [
  {
   "cell_type": "markdown",
   "metadata": {},
   "source": [
    "### Soal no 6.25"
   ]
  },
  {
   "cell_type": "markdown",
   "metadata": {},
   "source": [
    "__Soal :__\n",
    "![title](img/6-25.PNG)\n",
    "\n",
    "\n",
    "\n",
    "![title](img/6-25-2.PNG)\n",
    "<br>\n",
    "<center><b>Rumus Modifikasi secant<b><center>"
   ]
  },
  {
   "cell_type": "markdown",
   "metadata": {},
   "source": [
    "![title](img/6-25-1.PNG)\n",
    "<br>\n",
    "<center><b>Persamaan<b><center>"
   ]
  },
  {
   "cell_type": "markdown",
   "metadata": {},
   "source": [
    "__Fungsi :__"
   ]
  },
  {
   "cell_type": "code",
   "execution_count": 27,
   "metadata": {},
   "outputs": [],
   "source": [
    "import numpy as np\n",
    "\n",
    "def fungsi(x):\n",
    "    V = 1000000\n",
    "    W = 1000000\n",
    "    Q = 100000\n",
    "    k = 0.25\n",
    "    return W - (Q * x) - (k * V) * np.sqrt(x)"
   ]
  },
  {
   "cell_type": "markdown",
   "metadata": {},
   "source": [
    "__Relatif error :__"
   ]
  },
  {
   "cell_type": "code",
   "execution_count": 28,
   "metadata": {},
   "outputs": [],
   "source": [
    "def calculateRelativeError(val1, val2):\n",
    "    return abs(val2 - val1) / val2"
   ]
  },
  {
   "cell_type": "markdown",
   "metadata": {},
   "source": [
    "__Metode Secant Modified :__"
   ]
  },
  {
   "cell_type": "code",
   "execution_count": 29,
   "metadata": {},
   "outputs": [],
   "source": [
    "def secant():\n",
    "    Xi = 4\n",
    "    delta = 0.5\n",
    "    for i in range(3):\n",
    "        Xn = Xi - ((delta * Xi * fungsi(Xi)) / (fungsi(Xi + (delta * 4)) - fungsi(Xi)))\n",
    "        relativeError = calculateRelativeError(Xi, Xn)\n",
    "        Xi = Xn\n",
    "        print('Iterasi', i+1)\n",
    "        print('Nilai relative Error : %s' % (relativeError))\n",
    "        print('Nilai Xi : %s' % (Xi))\n",
    "        print()"
   ]
  },
  {
   "cell_type": "markdown",
   "metadata": {},
   "source": [
    "### Main program"
   ]
  },
  {
   "cell_type": "code",
   "execution_count": 30,
   "metadata": {},
   "outputs": [
    {
     "name": "stdout",
     "output_type": "stream",
     "text": [
      "Iterasi 1\n",
      "Nilai relative Error : 0.13797958971132712\n",
      "Nilai Xi : 4.640261358383014\n",
      "\n",
      "Iterasi 2\n",
      "Nilai relative Error : 0.004201254032116132\n",
      "Nilai Xi : 4.620848002082469\n",
      "\n",
      "Iterasi 3\n",
      "Nilai relative Error : 0.0008350373199768116\n",
      "Nilai Xi : 4.624709807365682\n",
      "\n"
     ]
    }
   ],
   "source": [
    "secant()"
   ]
  },
  {
   "cell_type": "markdown",
   "metadata": {},
   "source": [
    "![title](img/6-25-3.PNG)"
   ]
  },
  {
   "cell_type": "markdown",
   "metadata": {},
   "source": [
    "### Referensi :\n",
    "- https://www.slader.com/textbook/9780073397924-numerical-methods-for-engineers-7th-edition/175/problems/25/\n",
    "- Numerical Methods for Engineers 7th Edition (Steven C. Chapra, Raymond P. Canale)"
   ]
  },
  {
   "cell_type": "code",
   "execution_count": null,
   "metadata": {},
   "outputs": [],
   "source": []
  }
 ],
 "metadata": {
  "kernelspec": {
   "display_name": "Python 3",
   "language": "python",
   "name": "python3"
  },
  "language_info": {
   "codemirror_mode": {
    "name": "ipython",
    "version": 3
   },
   "file_extension": ".py",
   "mimetype": "text/x-python",
   "name": "python",
   "nbconvert_exporter": "python",
   "pygments_lexer": "ipython3",
   "version": "3.7.4"
  }
 },
 "nbformat": 4,
 "nbformat_minor": 2
}
